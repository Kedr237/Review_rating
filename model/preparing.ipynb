{
 "cells": [
  {
   "cell_type": "code",
   "execution_count": null,
   "metadata": {},
   "outputs": [],
   "source": [
    "import pickle\n",
    "from IPython.display import display, clear_output\n",
    "\n",
    "def load_pkl(path):\n",
    "  with open(path, 'rb') as f:\n",
    "    return pickle.load(f)\n",
    "  \n",
    "def dump_pkl(path, data):\n",
    "  with open(path, 'wb') as f:\n",
    "    pickle.dump(data, f)\n",
    "\n",
    "def display_iteration(func):\n",
    "  iteraton = 1\n",
    "  def wrapper(*args, **kwargs):\n",
    "    nonlocal iteraton\n",
    "    clear_output(wait=True)\n",
    "    display(f\"Iteration --> {iteraton}\")\n",
    "    iteraton += 1\n",
    "    return func(*args, **kwargs)\n",
    "  return wrapper"
   ]
  },
  {
   "cell_type": "code",
   "execution_count": null,
   "metadata": {},
   "outputs": [],
   "source": [
    "import json\n",
    "from typing import Dict, List\n",
    "\n",
    "with open('../reviews_parser/generated/sorted_by_2000.json', 'r') as f:\n",
    "  reviews: Dict[str, List[str]] = json.load(f)\n",
    "len(reviews['good'])"
   ]
  },
  {
   "cell_type": "code",
   "execution_count": null,
   "metadata": {},
   "outputs": [],
   "source": [
    "import pandas as pd\n",
    "\n",
    "tagged_reivews: List[Dict[str, str]] = []\n",
    "for label, texts in reviews.items():\n",
    "  for text in texts:\n",
    "    tagged_reivews.append({'label': label,\n",
    "                           'text': text})\n",
    "\n",
    "df_tagged_reivews = pd.DataFrame(tagged_reivews)\n",
    "df_tagged_reivews = df_tagged_reivews.sample(frac=1, random_state=10).reset_index(drop=True)\n",
    "df_tagged_reivews.head()"
   ]
  },
  {
   "cell_type": "code",
   "execution_count": null,
   "metadata": {},
   "outputs": [],
   "source": [
    "import spacy\n",
    "\n",
    "nlp = spacy.load('ru_core_news_sm')\n",
    "\n",
    "@display_iteration\n",
    "def process_text(text: str) -> str:\n",
    "  text = text.lower()\n",
    "  doc = nlp(text)\n",
    "  return ' '.join([token.lemma_ for token in doc if\n",
    "                   not token.is_punct\n",
    "                   and not token.is_space])\n",
    "\n",
    "process_text('Говорят, что для людей думающих - жизнь комедия')"
   ]
  },
  {
   "cell_type": "code",
   "execution_count": null,
   "metadata": {},
   "outputs": [],
   "source": [
    "df_processed = df_tagged_reivews.copy()\n",
    "df_processed['text'] = df_tagged_reivews['text'].apply(process_text)\n",
    "df_processed.head()"
   ]
  },
  {
   "cell_type": "code",
   "execution_count": null,
   "metadata": {},
   "outputs": [],
   "source": [
    "dump_pkl(f\"generated/df_processed_reviews_{df_processed.shape[0]}.pkl\", df_processed)"
   ]
  },
  {
   "cell_type": "code",
   "execution_count": null,
   "metadata": {},
   "outputs": [],
   "source": []
  }
 ],
 "metadata": {
  "kernelspec": {
   "display_name": "venv",
   "language": "python",
   "name": "python3"
  },
  "language_info": {
   "codemirror_mode": {
    "name": "ipython",
    "version": 3
   },
   "file_extension": ".py",
   "mimetype": "text/x-python",
   "name": "python",
   "nbconvert_exporter": "python",
   "pygments_lexer": "ipython3",
   "version": "3.10.12"
  }
 },
 "nbformat": 4,
 "nbformat_minor": 2
}
